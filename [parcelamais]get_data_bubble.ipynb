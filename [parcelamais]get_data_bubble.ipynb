{
 "cells": [
  {
   "cell_type": "code",
   "execution_count": 1,
   "metadata": {},
   "outputs": [],
   "source": [
    "# Importando as bibliotecas necessárias\n",
    "\n",
    "import requests\n",
    "import json\n",
    "import pandas as pd\n",
    "from dotenv import load_dotenv\n",
    "import os"
   ]
  },
  {
   "cell_type": "code",
   "execution_count": 2,
   "metadata": {},
   "outputs": [],
   "source": [
    "# Carregando as credenciais de acesso\n",
    "load_dotenv()\n",
    "\n",
    "client_id = os.environ[\"email\"]\n",
    "client_secret = os.environ[\"senha\"]"
   ]
  },
  {
   "cell_type": "code",
   "execution_count": 19,
   "metadata": {},
   "outputs": [
    {
     "name": "stdout",
     "output_type": "stream",
     "text": [
      "{\n",
      "    \"status\": \"success\",\n",
      "    \"response\": {\n",
      "        \"token\": \"1672927784034x656559345802010800\",\n",
      "        \"user_id\": \"1672840071855x815545991419960300\",\n",
      "        \"expires\": 86400\n",
      "    }\n",
      "}\n"
     ]
    }
   ],
   "source": [
    "# Coletando o token de acesso na Parcela Mais\n",
    "# É necessário fazer uma chamada POST com as credenciais de acesso para poder receber o access token\n",
    "\n",
    "url = \"https://parcelamais.com/api/1.1/wf/auth\"\n",
    "\n",
    "\n",
    "headers = {\n",
    "    \"accept\": \"application/json\",\n",
    "    \"content-type\": \"application/json\"\n",
    "}\n",
    "\n",
    "\n",
    "payload = {\n",
    "    \"client_id\": client_id,\n",
    "    \"client_secret\": client_secret\n",
    "}\n",
    "\n",
    "response = requests.post(\n",
    "    url,\n",
    "    headers = headers,\n",
    "    json = payload\n",
    "    )\n",
    "\n",
    "print(response.text)"
   ]
  },
  {
   "cell_type": "code",
   "execution_count": 20,
   "metadata": {},
   "outputs": [],
   "source": [
    "# Parseando o json para obter o valor do token\n",
    "# O token tem expiração de 24h, portanto precisa ser renovado sempre\n",
    "\n",
    "json_parsed = json.loads(response.text)\n",
    "\n",
    "token = json_parsed[\"response\"][\"token\"]"
   ]
  },
  {
   "cell_type": "code",
   "execution_count": 22,
   "metadata": {},
   "outputs": [],
   "source": [
    "# Puxando os dados da tabela Proposal no banco de dados do Bubble usando o token de chamada\n",
    "\n",
    "tabela_final = pd.DataFrame()\n",
    "cursor = 0\n",
    "\n",
    "# Fazendo várias requisições somando sempre +100 no cursor até que o resultado da chamada seja menor do que 1\n",
    "\n",
    "while True:\n",
    "    \n",
    "    url = f'https://parcelamais.com/api/1.1/obj/proposal?cursor={cursor}'\n",
    "    \n",
    "    headers_get = {\n",
    "        \"accept\": \"application/json\",\n",
    "        \"authorization\": \"Bearer \" + token\n",
    "    }\n",
    "    \n",
    "    response = requests.get(\n",
    "        url,\n",
    "        headers = headers_get\n",
    "    )\n",
    "    \n",
    "    informacoes = response.json()\n",
    "    \n",
    "    tabela = pd.DataFrame(informacoes['response']['results'])\n",
    "    \n",
    "    if len(informacoes['response']['results']) < 1:\n",
    "        break\n",
    "    \n",
    "    tabela_final = pd.concat([tabela_final, tabela])\n",
    "    \n",
    "    cursor = cursor + 100\n",
    "    \n",
    "#display(tabela_final)\n",
    "tabela_final.to_csv('[parcelamais]get_data_bubble.csv', index = False)"
   ]
  }
 ],
 "metadata": {
  "kernelspec": {
   "display_name": "Python 3.9.13 ('base')",
   "language": "python",
   "name": "python3"
  },
  "language_info": {
   "codemirror_mode": {
    "name": "ipython",
    "version": 3
   },
   "file_extension": ".py",
   "mimetype": "text/x-python",
   "name": "python",
   "nbconvert_exporter": "python",
   "pygments_lexer": "ipython3",
   "version": "3.9.13"
  },
  "orig_nbformat": 4,
  "vscode": {
   "interpreter": {
    "hash": "ad2bdc8ecc057115af97d19610ffacc2b4e99fae6737bb82f5d7fb13d2f2c186"
   }
  }
 },
 "nbformat": 4,
 "nbformat_minor": 2
}
